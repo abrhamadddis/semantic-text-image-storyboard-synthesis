{
 "cells": [
  {
   "cell_type": "code",
   "execution_count": 22,
   "metadata": {},
   "outputs": [],
   "source": [
    "from image_generator import ImageGenerater\n",
    "from image_composer import ImageComposer\n"
   ]
  },
  {
   "cell_type": "code",
   "execution_count": null,
   "metadata": {},
   "outputs": [],
   "source": []
  },
  {
   "cell_type": "code",
   "execution_count": null,
   "metadata": {},
   "outputs": [],
   "source": []
  },
  {
   "cell_type": "code",
   "execution_count": 19,
   "metadata": {},
   "outputs": [],
   "source": [
    "concept = {\n",
    "    \"frame_1\": {\"Background\": \"Transforming Coke bottle to DJ turntable, bubbling with energy and inviting interaction.\"},\n",
    "    \n",
    "}"
   ]
  },
  {
   "cell_type": "code",
   "execution_count": 20,
   "metadata": {},
   "outputs": [
    {
     "name": "stderr",
     "output_type": "stream",
     "text": [
      "Loading pipeline components...: 100%|██████████| 7/7 [00:00<00:00,  9.41it/s]\n",
      "100%|██████████| 50/50 [00:20<00:00,  2.39it/s]\n",
      "INFO:root:Image saved to ./images/frame_1_Background_0.png\n"
     ]
    }
   ],
   "source": [
    "ig = ImageGenerater(concept)\n",
    "generated_images = ig.generate_images()"
   ]
  },
  {
   "cell_type": "code",
   "execution_count": 24,
   "metadata": {},
   "outputs": [
    {
     "ename": "IndexError",
     "evalue": "tuple index out of range",
     "output_type": "error",
     "traceback": [
      "\u001b[0;31m---------------------------------------------------------------------------\u001b[0m",
      "\u001b[0;31mIndexError\u001b[0m                                Traceback (most recent call last)",
      "Cell \u001b[0;32mIn[24], line 2\u001b[0m\n\u001b[1;32m      1\u001b[0m ic \u001b[38;5;241m=\u001b[39m ImageComposer(\u001b[38;5;241m600\u001b[39m,\u001b[38;5;241m600\u001b[39m, \u001b[38;5;28mlist\u001b[39m(generated_images\u001b[38;5;241m.\u001b[39mvalues()))\n\u001b[0;32m----> 2\u001b[0m generated_frames \u001b[38;5;241m=\u001b[39m \u001b[43mic\u001b[49m\u001b[38;5;241;43m.\u001b[39;49m\u001b[43mgenerate_frames\u001b[49m\u001b[43m(\u001b[49m\u001b[43m)\u001b[49m\n",
      "File \u001b[0;32m~/semantic-text-image-storyboard-synthesis/notebooks/image_composer.py:41\u001b[0m, in \u001b[0;36mImageComposer.generate_frames\u001b[0;34m(self)\u001b[0m\n\u001b[1;32m     40\u001b[0m \u001b[38;5;28;01mdef\u001b[39;00m \u001b[38;5;21mgenerate_frames\u001b[39m(\u001b[38;5;28mself\u001b[39m):\n\u001b[0;32m---> 41\u001b[0m     \u001b[38;5;28;43mself\u001b[39;49m\u001b[38;5;241;43m.\u001b[39;49m\u001b[43mcompose_frames\u001b[49m\u001b[43m(\u001b[49m\u001b[43m)\u001b[49m\n\u001b[1;32m     42\u001b[0m     \u001b[38;5;28;01mreturn\u001b[39;00m \u001b[38;5;28mself\u001b[39m\u001b[38;5;241m.\u001b[39mgenerated_frames\n",
      "File \u001b[0;32m~/semantic-text-image-storyboard-synthesis/notebooks/image_composer.py:63\u001b[0m, in \u001b[0;36mImageComposer.compose_frames\u001b[0;34m(self)\u001b[0m\n\u001b[1;32m     61\u001b[0m placement_values \u001b[38;5;241m=\u001b[39m [(x[\u001b[38;5;241m2\u001b[39m], \u001b[38;5;241m*\u001b[39m\u001b[38;5;28mlist\u001b[39m(y\u001b[38;5;241m.\u001b[39mvalues())) \u001b[38;5;28;01mfor\u001b[39;00m x, y \u001b[38;5;129;01min\u001b[39;00m \u001b[38;5;28mzip\u001b[39m(placement_items, adjusted_positions)]\n\u001b[1;32m     62\u001b[0m \u001b[38;5;66;03m# Construct Frame\u001b[39;00m\n\u001b[0;32m---> 63\u001b[0m \u001b[38;5;28mself\u001b[39m\u001b[38;5;241m.\u001b[39mgenerated_frames\u001b[38;5;241m.\u001b[39mappend(\u001b[38;5;28mself\u001b[39m\u001b[38;5;241m.\u001b[39mcreate_combined_image(\u001b[43mbackground\u001b[49m\u001b[43m[\u001b[49m\u001b[38;5;241;43m2\u001b[39;49m\u001b[43m]\u001b[49m, placement_values))\n",
      "\u001b[0;31mIndexError\u001b[0m: tuple index out of range"
     ]
    }
   ],
   "source": [
    "ic = ImageComposer(600,600, list(generated_images.values()))\n",
    "generated_frames = ic.generate_frames()"
   ]
  }
 ],
 "metadata": {
  "kernelspec": {
   "display_name": "venv",
   "language": "python",
   "name": "python3"
  },
  "language_info": {
   "codemirror_mode": {
    "name": "ipython",
    "version": 3
   },
   "file_extension": ".py",
   "mimetype": "text/x-python",
   "name": "python",
   "nbconvert_exporter": "python",
   "pygments_lexer": "ipython3",
   "version": "3.11.5"
  }
 },
 "nbformat": 4,
 "nbformat_minor": 2
}
